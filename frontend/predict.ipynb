{
 "cells": [
  {
   "cell_type": "code",
   "execution_count": 10,
   "id": "ec002225",
   "metadata": {},
   "outputs": [
    {
     "name": "stdout",
     "output_type": "stream",
     "text": [
      "  Destination_Name Destination_Type Region  Total_Days  Total_Persons  \\\n",
      "0       Darjeeling     Hill Station   East           7              5   \n",
      "1          Kolkata     Hill Station   East           7              5   \n",
      "2           Konark     Hill Station   East           8              3   \n",
      "3       Darjeeling     Hill Station   East           6              2   \n",
      "4         Shillong     Hill Station   East           6              6   \n",
      "\n",
      "   Budget_Per_Person  \n",
      "0              28440  \n",
      "1              23203  \n",
      "2              37073  \n",
      "3              33335  \n",
      "4              25031  \n"
     ]
    },
    {
     "data": {
      "text/plain": [
       "['travel_dataset.pkl']"
      ]
     },
     "execution_count": 10,
     "metadata": {},
     "output_type": "execute_result"
    }
   ],
   "source": [
    "import pandas as pd\n",
    "from sklearn.preprocessing import LabelEncoder, StandardScaler\n",
    "from sklearn.neighbors import NearestNeighbors\n",
    "import joblib\n",
    "\n",
    "# -----------------------------\n",
    "# Load dataset\n",
    "# -----------------------------\n",
    "df = pd.read_csv(\"travel_recommendation_dataset_v3.csv\")\n",
    "\n",
    "# Encode categorical columns\n",
    "le_region = LabelEncoder()\n",
    "df[\"Region_encoded\"] = le_region.fit_transform(df[\"Region\"])\n",
    "\n",
    "le_type = LabelEncoder()\n",
    "df[\"Type_encoded\"] = le_type.fit_transform(df[\"Destination_Type\"])\n",
    "\n",
    "# -----------------------------\n",
    "# Prepare training data\n",
    "# -----------------------------\n",
    "X = df[[\"Region_encoded\", \"Total_Days\", \"Total_Persons\", \"Budget_Per_Person\"]]\n",
    "\n",
    "# Scale features\n",
    "scaler = StandardScaler()\n",
    "X_scaled = scaler.fit_transform(X)   # fit on dataframe\n",
    "\n",
    "# Train NearestNeighbors model (global base model)\n",
    "knn = NearestNeighbors(n_neighbors=5, metric=\"euclidean\")\n",
    "knn.fit(X_scaled)\n",
    "\n",
    "# -----------------------------\n",
    "# Recommendation function\n",
    "# -----------------------------\n",
    "def recommend_destinations(region, days, persons, budget, dest_type, top_k=5):\n",
    "    # Filter dataset by chosen destination type\n",
    "    df_filtered = df[df[\"Destination_Type\"] == dest_type].copy()\n",
    "    \n",
    "    if df_filtered.empty:\n",
    "        return f\"No destinations found for type: {dest_type}\"\n",
    "    \n",
    "    # Encode region\n",
    "    region_encoded = le_region.transform([region])[0]\n",
    "    \n",
    "    # Filtered features\n",
    "    X_filt = df_filtered[[\"Region_encoded\", \"Total_Days\", \"Total_Persons\", \"Budget_Per_Person\"]]\n",
    "    X_filt_scaled = scaler.transform(X_filt)  # keep feature names consistent\n",
    "    \n",
    "    # Fit temporary KNN on filtered subset\n",
    "    knn_temp = NearestNeighbors(n_neighbors=min(top_k, len(df_filtered)), metric=\"euclidean\")\n",
    "    knn_temp.fit(X_filt_scaled)\n",
    "    \n",
    "    # Encode + scale user input (convert to DataFrame with same column names!)\n",
    "    user_input = pd.DataFrame(\n",
    "        [[region_encoded, days, persons, budget]],\n",
    "        columns=[\"Region_encoded\", \"Total_Days\", \"Total_Persons\", \"Budget_Per_Person\"]\n",
    "    )\n",
    "    user_scaled = scaler.transform(user_input)\n",
    "    \n",
    "    # Nearest neighbors\n",
    "    distances, indices = knn_temp.kneighbors(user_scaled, n_neighbors=min(top_k, len(df_filtered)))\n",
    "    \n",
    "    recommendations = df_filtered.iloc[indices[0]][\n",
    "        [\"Destination_Name\", \"Destination_Type\", \"Region\", \"Total_Days\", \"Total_Persons\", \"Budget_Per_Person\"]\n",
    "    ]\n",
    "    \n",
    "    return recommendations.reset_index(drop=True)\n",
    "\n",
    "# -----------------------------\n",
    "# Example usage\n",
    "# -----------------------------\n",
    "user_recs = recommend_destinations(\n",
    "    region=\"East\", \n",
    "    days=7, \n",
    "    persons=4, \n",
    "    budget=30000, \n",
    "    dest_type=\"Hill Station\", \n",
    "    top_k=5\n",
    ")\n",
    "print(user_recs)\n",
    "\n",
    "# -----------------------------\n",
    "# Save all required objects\n",
    "# -----------------------------\n",
    "label_encoders = {\n",
    "    \"Region\": le_region, \n",
    "    \"Destination_Type\": le_type\n",
    "}\n",
    "joblib.dump(label_encoders, \"label_encoders.pkl\")\n",
    "\n",
    "joblib.dump(scaler, \"scaler.pkl\")\n",
    "joblib.dump(knn, \"knn_model.pkl\")   # base trained NN model\n",
    "joblib.dump(df, \"travel_dataset.pkl\")\n"
   ]
  },
  {
   "cell_type": "code",
   "execution_count": null,
   "id": "4509046f",
   "metadata": {},
   "outputs": [
    {
     "data": {
      "text/plain": [
       "['travel_dataset.pkl']"
      ]
     },
     "execution_count": 6,
     "metadata": {},
     "output_type": "execute_result"
    }
   ],
   "source": []
  },
  {
   "cell_type": "code",
   "execution_count": null,
   "id": "3875763a",
   "metadata": {},
   "outputs": [],
   "source": []
  }
 ],
 "metadata": {
  "kernelspec": {
   "display_name": "Python 3",
   "language": "python",
   "name": "python3"
  },
  "language_info": {
   "codemirror_mode": {
    "name": "ipython",
    "version": 3
   },
   "file_extension": ".py",
   "mimetype": "text/x-python",
   "name": "python",
   "nbconvert_exporter": "python",
   "pygments_lexer": "ipython3",
   "version": "3.12.8"
  }
 },
 "nbformat": 4,
 "nbformat_minor": 5
}
